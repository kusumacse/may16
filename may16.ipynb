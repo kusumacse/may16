{
 "cells": [
  {
   "cell_type": "markdown",
   "metadata": {},
   "source": [
    "#Day Objectives\n",
    "\n",
    "File Handling /Data processing\n",
    "External libraries\n",
    "Functional Programming\n"
   ]
  },
  {
   "cell_type": "markdown",
   "metadata": {},
   "source": [
    "Define a function to read data from text file"
   ]
  },
  {
   "cell_type": "code",
   "execution_count": 1,
   "metadata": {},
   "outputs": [
    {
     "data": {
      "text/plain": [
       "'Data in line 3'"
      ]
     },
     "execution_count": 1,
     "metadata": {},
     "output_type": "execute_result"
    }
   ],
   "source": [
    "def readFileData(filename):\n",
    "    f=open(filename,'r')\n",
    "    filedata=f.readline()  #Acess only one line\n",
    "    filedata+=f.readline() #Access  more than one line from text file\n",
    "    filedata=f.read()       #Acess all the lines  \n",
    "    f.close()\n",
    "    return filedata\n",
    "readFileData('Datafiles/data.txt')\n",
    "    "
   ]
  },
  {
   "cell_type": "code",
   "execution_count": 2,
   "metadata": {},
   "outputs": [
    {
     "data": {
      "text/plain": [
       "'Data in line1\\nData in line 2\\nData in line 3'"
      ]
     },
     "execution_count": 2,
     "metadata": {},
     "output_type": "execute_result"
    }
   ],
   "source": [
    "def readFileData(filename):\n",
    "    f= open(filename,'r') \n",
    "    \n",
    "    filedata =f.read() #Acess all the lines  \n",
    "    f.close() \n",
    "    \n",
    "    return filedata\n",
    "readFileData('Datafiles/data.txt')"
   ]
  },
  {
   "cell_type": "markdown",
   "metadata": {},
   "source": [
    "Using for loop print all the data"
   ]
  },
  {
   "cell_type": "code",
   "execution_count": null,
   "metadata": {},
   "outputs": [],
   "source": [
    "def readFileData(filename):\n",
    "    with open(filename,'r') as f:\n",
    "    \n",
    "         for line in f:\n",
    "            print(line)\n",
    "    return        \n",
    "  \n",
    "    \n",
    "readFileData('Datafiles/data.txt')"
   ]
  },
  {
   "cell_type": "markdown",
   "metadata": {},
   "source": [
    "Another wat to print all the data by using f.read()"
   ]
  },
  {
   "cell_type": "code",
   "execution_count": 11,
   "metadata": {},
   "outputs": [
    {
     "name": "stdout",
     "output_type": "stream",
     "text": [
      "Data in line1\n",
      "Data in line 2\n",
      "Data in line 3\n"
     ]
    }
   ],
   "source": [
    "def readFileData(filename):\n",
    "    with open(filename,'r') as f:\n",
    "    \n",
    "         print(f.read())\n",
    "    return        \n",
    "  \n",
    "    \n",
    "readFileData('Datafiles/data.txt')"
   ]
  },
  {
   "cell_type": "code",
   "execution_count": null,
   "metadata": {},
   "outputs": [],
   "source": []
  },
  {
   "cell_type": "code",
   "execution_count": null,
   "metadata": {},
   "outputs": [],
   "source": [
    "def readFileData(filename):\n",
    "    with open(filename,'r') as f:\n",
    "        print(f.read())\n",
    "    \n",
    "        \n",
    "          \n",
    "    return        \n",
    "def writeIntoFile(filename,data):\n",
    "    with open(filename,'w') as f:\n",
    "         f.write(data)\n",
    "    return    \n",
    "writeIntoFile('Datafiles/filewrite.txt','data written in to filewrite.txt')\n",
    "readFileData('Datafiles/filewrite.txt')\n"
   ]
  },
  {
   "cell_type": "markdown",
   "metadata": {},
   "source": [
    "Files Append mode"
   ]
  },
  {
   "cell_type": "code",
   "execution_count": null,
   "metadata": {},
   "outputs": [],
   "source": [
    "def writeIntoFile(filename,data,mode):\n",
    "    with open(filename,mode) as f:\n",
    "        f.write(data)\n",
    "        \n",
    "    return        \n",
    "\n",
    "writeIntoFile('Datafiles/filewrite.txt','Secondline','a')\n",
    "readFileData('Datafiles/filewrite.txt')\n"
   ]
  },
  {
   "cell_type": "code",
   "execution_count": null,
   "metadata": {},
   "outputs": [],
   "source": [
    "def writeIntoFile(filename,data,mode):\n",
    "    with open(filename,mode) as f:\n",
    "        f.write(data)\n",
    "        \n",
    "    return        \n",
    "\n",
    "writeIntoFile('Datafiles/filewrite.txt','firstline','w')\n",
    "readFileData('Datafiles/filewrite.txt')\n"
   ]
  },
  {
   "cell_type": "markdown",
   "metadata": {},
   "source": [
    "### Problem 2\n",
    "#### Problem Statement\n",
    "Define a function to genertae a marks data file for 1300 students such that each mark is entered in a new line.\n",
    "marks range from 0 to 100 (inclusive) as random numbers.\n",
    "#### Constrains\n",
    "\n",
    "#### Testcases\n",
    "*Testcase 1\n",
    "*Testcase 2\n",
    "*Testcase 3"
   ]
  },
  {
   "cell_type": "code",
   "execution_count": null,
   "metadata": {},
   "outputs": [],
   "source": [
    "import random\n",
    "def generateMarksData(n,filename):\n",
    "    with open(filename,'w') as marksfile:\n",
    "        for i in range(0,n):\n",
    "            marks=random.randint(0,101)\n",
    "            marksfile.write(str(marks)+'\\n')\n",
    "    return\n",
    "generateMarksData(1300,'marksdata.txt')\n",
    "\n",
    "  \n",
    "    \n",
    "    \n",
    "    \n",
    "    "
   ]
  },
  {
   "cell_type": "markdown",
   "metadata": {},
   "source": [
    "### Problem 2\n",
    "#### Problem Statement\n",
    "Generate report on the marks data with the following indicators.\n",
    "* Highest Mark\n",
    "* Lowest Mark\n",
    "* Average Mark\n",
    "* No of students with distinction(>80)\n",
    "* No of students with First class(>60)\n",
    "* No of students with second class(>50)\n",
    "* No of students with third class(>40)\n",
    "* No of students failed(<40)\n"
   ]
  },
  {
   "cell_type": "code",
   "execution_count": null,
   "metadata": {},
   "outputs": [],
   "source": [
    "import re, timeit\n",
    "def generateMarksReport(marksfile):\n",
    "    start = timeit.default_timer()\n",
    "    marksdata = readFileData(marksfile)\n",
    "    #print(marksdata[2])\n",
    "    marksdata = re.split(r'\\n', marksdata)\n",
    "    marksdata = list(map(int, marksdata[:len(marksdata)-1]))\n",
    "    #print(marksdata[len(marksdata)-2])\n",
    "    #print(type(marksdata[0]))\n",
    "    print(max(marksdata))\n",
    "    return timeit.default_timer() - start\n",
    "\n",
    "generateMarksReport('marksdata.txt')"
   ]
  },
  {
   "cell_type": "markdown",
   "metadata": {},
   "source": [
    "To view List data and map"
   ]
  },
  {
   "cell_type": "code",
   "execution_count": 5,
   "metadata": {},
   "outputs": [
    {
     "data": {
      "text/plain": [
       "'1'"
      ]
     },
     "execution_count": 5,
     "metadata": {},
     "output_type": "execute_result"
    }
   ],
   "source": [
    "li=[1,2,3,4,5,6]\n",
    "s=list(map(str,li))\n",
    "s[0]"
   ]
  },
  {
   "cell_type": "code",
   "execution_count": 6,
   "metadata": {},
   "outputs": [
    {
     "data": {
      "text/plain": [
       "36"
      ]
     },
     "execution_count": 6,
     "metadata": {},
     "output_type": "execute_result"
    }
   ],
   "source": [
    "def square(n):\n",
    "    return n * n\n",
    "li=[1,2,3,4,5,6]\n",
    "s=list(map(square,li))\n",
    "s[5]"
   ]
  },
  {
   "cell_type": "code",
   "execution_count": 7,
   "metadata": {},
   "outputs": [
    {
     "data": {
      "text/plain": [
       "['1', '2', '3', '4', '5', '6']"
      ]
     },
     "execution_count": 7,
     "metadata": {},
     "output_type": "execute_result"
    }
   ],
   "source": [
    "li=[1,2,3,4,5,6]\n",
    "s=list(map(str,li))\n",
    "s"
   ]
  },
  {
   "cell_type": "markdown",
   "metadata": {},
   "source": [
    "strings converted in to float"
   ]
  },
  {
   "cell_type": "code",
   "execution_count": 8,
   "metadata": {},
   "outputs": [
    {
     "data": {
      "text/plain": [
       "[1.0, 4.0, 9.0, 16.0, 25.0, 36.0]"
      ]
     },
     "execution_count": 8,
     "metadata": {},
     "output_type": "execute_result"
    }
   ],
   "source": [
    "def square(n):\n",
    "    return n * n\n",
    "li=[1,2,3,4,5,6]\n",
    "s=list(map(square,li))\n",
    "s=[float(i) for i in s]\n",
    "s"
   ]
  },
  {
   "cell_type": "markdown",
   "metadata": {},
   "source": [
    "insert timer"
   ]
  },
  {
   "cell_type": "code",
   "execution_count": 10,
   "metadata": {},
   "outputs": [
    {
     "name": "stdout",
     "output_type": "stream",
     "text": [
      "0.000697599999995191\n"
     ]
    },
    {
     "data": {
      "text/plain": [
       "[1.0, 4.0, 9.0, 16.0, 25.0, 36.0]"
      ]
     },
     "execution_count": 10,
     "metadata": {},
     "output_type": "execute_result"
    }
   ],
   "source": [
    "import timeit\n",
    "def square(n):\n",
    "    return n * n\n",
    "st=timeit.default_timer()\n",
    "li=[1,2,3,4,5,6]\n",
    "s=list(map(square,li))\n",
    "s=[float(i) for i in s]\n",
    "print(timeit.default_timer()-st)\n",
    "s\n"
   ]
  },
  {
   "cell_type": "code",
   "execution_count": null,
   "metadata": {},
   "outputs": [],
   "source": []
  }
 ],
 "metadata": {
  "kernelspec": {
   "display_name": "Python 3",
   "language": "python",
   "name": "python3"
  },
  "language_info": {
   "codemirror_mode": {
    "name": "ipython",
    "version": 3
   },
   "file_extension": ".py",
   "mimetype": "text/x-python",
   "name": "python",
   "nbconvert_exporter": "python",
   "pygments_lexer": "ipython3",
   "version": "3.7.3"
  }
 },
 "nbformat": 4,
 "nbformat_minor": 2
}
